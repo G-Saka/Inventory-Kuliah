{
  "nbformat": 4,
  "nbformat_minor": 0,
  "metadata": {
    "colab": {
      "name": "DasarStatistic.ipynb",
      "provenance": [],
      "collapsed_sections": [],
      "authorship_tag": "ABX9TyP9apYmsq+igClYtGzv+sdV",
      "include_colab_link": true
    },
    "kernelspec": {
      "name": "python3",
      "display_name": "Python 3"
    },
    "language_info": {
      "name": "python"
    }
  },
  "cells": [
    {
      "cell_type": "markdown",
      "metadata": {
        "id": "view-in-github",
        "colab_type": "text"
      },
      "source": [
        "<a href=\"https://colab.research.google.com/github/Prataka07/Inventory-Kuliah/blob/main/DasarStatistic.ipynb\" target=\"_parent\"><img src=\"https://colab.research.google.com/assets/colab-badge.svg\" alt=\"Open In Colab\"/></a>"
      ]
    },
    {
      "cell_type": "markdown",
      "metadata": {
        "id": "3E46i-XuhHoo"
      },
      "source": [
        "#Praktikum 1\n",
        "#Pengenalan Python"
      ]
    },
    {
      "cell_type": "code",
      "metadata": {
        "id": "KEQvMG5zhn2F"
      },
      "source": [
        "# import library\n",
        "import numpy as np\n",
        "import pandas as pd\n",
        "import matplotlib.pyplot as plt"
      ],
      "execution_count": null,
      "outputs": []
    },
    {
      "cell_type": "code",
      "metadata": {
        "id": "t-N2OmhukYkE"
      },
      "source": [
        "# mendefinisikan file\n",
        "path=\"linier-reg-test.csv\"\n",
        "df = pd.read_csv(path)"
      ],
      "execution_count": 5,
      "outputs": []
    },
    {
      "cell_type": "code",
      "metadata": {
        "id": "VjsqEwtUk4fa"
      },
      "source": [
        "# menentukan dataframe\n",
        "data1 = df['mid']"
      ],
      "execution_count": 6,
      "outputs": []
    },
    {
      "cell_type": "code",
      "metadata": {
        "id": "BagS6q8wlAZT"
      },
      "source": [
        "# mencari mean, median dan modus\n",
        "mean = data1.mean()\n",
        "median = data1.median()\n",
        "modus = data1.mode()"
      ],
      "execution_count": 7,
      "outputs": []
    },
    {
      "cell_type": "code",
      "metadata": {
        "id": "6z2oLXg5lG5T"
      },
      "source": [
        "# mencari mean, median dan modus\n",
        "mean = data1.mean()\n",
        "median = data1.median()\n",
        "modus = data1.mode()"
      ],
      "execution_count": null,
      "outputs": []
    },
    {
      "cell_type": "code",
      "metadata": {
        "colab": {
          "base_uri": "https://localhost:8080/"
        },
        "id": "6PNoVJfzlOFi",
        "outputId": "d6db3bef-fc2b-4387-ec95-f90465875a84"
      },
      "source": [
        "print (\"Mean:\", mean)\n",
        "print (\"Median:\", median)\n",
        "print (\"Mod:\", modus)"
      ],
      "execution_count": 9,
      "outputs": [
        {
          "output_type": "stream",
          "text": [
            "Mean: 50.93666666666667\n",
            "Median: 53.0\n",
            "Mod: 0    21\n",
            "1    46\n",
            "2    55\n",
            "dtype: int64\n"
          ],
          "name": "stdout"
        }
      ]
    },
    {
      "cell_type": "code",
      "metadata": {
        "colab": {
          "base_uri": "https://localhost:8080/",
          "height": 334
        },
        "id": "ve_VR58ilk2c",
        "outputId": "e1c31f41-f99f-45e7-d860-7e1902d82f8d"
      },
      "source": [
        "# membuat grafik\n",
        "plt.figure(figsize=(15,5))\n",
        "plt.hist(data1,bins=35,color='grey')\n",
        "plt.axvline(mean,color='red',label='Mean')\n",
        "plt.axvline(median,color='yellow',label='Median')\n",
        "plt.axvline(modus[0],color='green',label='Modus')\n",
        "plt.xlabel('mid')\n",
        "plt.ylabel('uas')\n",
        "plt.legend()\n",
        "plt.show()"
      ],
      "execution_count": 10,
      "outputs": [
        {
          "output_type": "display_data",
          "data": {
            "image/png": "[encoded data removed]",
            "text/plain": [
              "<Figure size 1080x360 with 1 Axes>"
            ]
          },
          "metadata": {
            "tags": [],
            "needs_background": "light"
          }
        }
      ]
    }
  ]
}